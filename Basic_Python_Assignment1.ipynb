{
 "cells": [
  {
   "cell_type": "raw",
   "id": "7869b63e-2954-4a4d-a97d-a61ea98f9814",
   "metadata": {},
   "source": [
    " 1. In the below elements which of them are values or an expression? eg:- values can be\n",
    "integer or string and expressions will be mathematical operators.\n",
    "*\n",
    "&#39;hello&#39;\n",
    "-87.8\n",
    "-\n",
    "/\n",
    "+\n",
    "6\n",
    "\n",
    " Ans:   *  =>  expresssion\n",
    "  &#39;hello&#39;  =>   expression\n",
    "  -87.8  =>   value\n",
    "  -   =>  expression \n",
    "  /   => expression \n",
    "  +   => expression\n",
    "  6   => value\n",
    "  "
   ]
  },
  {
   "cell_type": "raw",
   "id": "22045d68-ad17-45e7-bc69-7c5d6bc4390d",
   "metadata": {},
   "source": [
    "Q2. What is the difference between string and variable?\n",
    "Ans: variable is used to store variable and string is type of information that want store in variable\n"
   ]
  },
  {
   "cell_type": "raw",
   "id": "c5d9c51a-4516-40a6-b5ae-ce1235b4a8f0",
   "metadata": {},
   "source": [
    "Q 3. Describe three different data types.\n",
    "Ans:1.integer\n",
    "    2.float\n",
    "    3.string\n",
    "    4.sequence type(list,tuple,range)  "
   ]
  },
  {
   "cell_type": "raw",
   "id": "8e8e2d10-4064-4942-ba75-9e7bfbbb34aa",
   "metadata": {},
   "source": [
    " Q4 What is an expression made up of? What do all expressions do?\n",
    "Ans: An expression in python is made up of operators and operand.Purpose of expresssion is to create single value. "
   ]
  },
  {
   "cell_type": "raw",
   "id": "de248a22-d2f5-4ff0-8f1f-83be646f226a",
   "metadata": {},
   "source": [
    "Q5. This assignment statements, like spam = 10. What is the difference between an\n",
    "expression and a statement?\n",
    "Ans:  Expression are unique meaning and expresssion is combinaton of values and functions.Expression are building block\n",
    "    statement are two sided excution.statement are whole structure "
   ]
  },
  {
   "cell_type": "code",
   "execution_count": null,
   "id": "045283ae-6423-430b-8378-4e62926efceb",
   "metadata": {},
   "outputs": [],
   "source": [
    "Q6. After running the following code, what does the variable bacon contain?\n",
    "bacon = 22\n",
    "bacon + 1\n",
    "\n",
    "Ans: 22    "
   ]
  },
  {
   "cell_type": "raw",
   "id": "9a553b55-6b77-4a82-a307-0b737f836426",
   "metadata": {},
   "source": [
    "Q7. What should the values of the following two terms be?\n",
    "  'spam'+'spamspam'\n",
    "  'spam'*3\n",
    "  \n",
    "Ans: first one: 'spamspamspam'\n",
    "    second: 'spamspamspam'"
   ]
  },
  {
   "cell_type": "raw",
   "id": "a9864888-6b0e-4cce-9c34-dd79da9bf043",
   "metadata": {},
   "source": [
    "Q8. Why is eggs a valid variable name while 100 is invalid?\n",
    "\n",
    "Ans: variables names should not start with number "
   ]
  },
  {
   "cell_type": "raw",
   "id": "d732dee7-6a41-4489-b9f9-02a344e03be5",
   "metadata": {},
   "source": [
    "Q9. What three functions can be used to get the integer, floating-point number, or string\n",
    "version of a value?\n",
    "\n",
    "Ans:int(),float(),str() "
   ]
  },
  {
   "cell_type": "raw",
   "id": "c3725e0e-1ad3-47fc-b366-9d483516b30e",
   "metadata": {},
   "source": [
    "Q10. Why does this expression cause an error? How can you fix it?\n",
    "'i have eaten'+99+'buritos'\n",
    "\n",
    "Ans: TypeError: can only concatenate str (not \"int\") to str\n",
    "fix can be:\n",
    "'i have eaten'+'99'+'buritos' "
   ]
  }
 ],
 "metadata": {
  "kernelspec": {
   "display_name": "Python 3 (ipykernel)",
   "language": "python",
   "name": "python3"
  },
  "language_info": {
   "codemirror_mode": {
    "name": "ipython",
    "version": 3
   },
   "file_extension": ".py",
   "mimetype": "text/x-python",
   "name": "python",
   "nbconvert_exporter": "python",
   "pygments_lexer": "ipython3",
   "version": "3.10.6"
  }
 },
 "nbformat": 4,
 "nbformat_minor": 5
}
