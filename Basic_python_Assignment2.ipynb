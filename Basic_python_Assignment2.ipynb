{
 "cells": [
  {
   "cell_type": "raw",
   "id": "89537abe-9c96-4503-91f5-3140bcdcfdcf",
   "metadata": {},
   "source": [
    " Q1.What are the two values of the Boolean data type? How do you write them?\n",
    "\n",
    "Ans:There are two values of boolean data type is true and false \n"
   ]
  },
  {
   "cell_type": "raw",
   "id": "bb664af5-89d2-40ff-8430-101539ad1a65",
   "metadata": {},
   "source": [
    "Q2. What are the three different types of Boolean operators?\n",
    "\n",
    "Ans: And,Or,Not "
   ]
  },
  {
   "cell_type": "raw",
   "id": "ac087823-e4e1-48a5-9276-0a0e83d734ac",
   "metadata": {},
   "source": [
    " Q3. Make a list of each Boolean operator&#39;s truth tables (i.e. every possible combination of Boolean\n",
    "values for the operator and what it evaluate ). \n",
    "\n",
    "Ans:\n",
    "T:True\n",
    "F:False\n",
    "\n",
    "AND:\n",
    "\n",
    "A  B   Result\n",
    "\n",
    "T  T   T\n",
    "F  T   F\n",
    "T  F   F\n",
    "F  F   F\n",
    "\n",
    "OR:\n",
    "\n",
    "A  B   Result\n",
    "\n",
    "T  T   T\n",
    "F  T   T\n",
    "T  F   T\n",
    "F  F   F\n",
    "\n",
    "NOT:\n",
    "\n",
    "A    RESULT\n",
    "\n",
    "T    F\n",
    "F    T\n"
   ]
  },
  {
   "cell_type": "raw",
   "id": "23a82fa2-2b80-4746-ba66-113cfb9b2ebb",
   "metadata": {},
   "source": [
    "Q4. What are the values of the following expressions?\n",
    "\n",
    "    1.(5>4) and (3==5)\n",
    "    Ans:False\n",
    "    \n",
    "    2.not(5>4)\n",
    "    Ans:False\n",
    "    \n",
    "    3.(5>4) or (3==5)\n",
    "    Ans: True\n",
    "    \n",
    "    4.not((5>4) or (3==5))\n",
    "    Ans:False\n",
    "    \n",
    "    5.(True and True) and (True == False)\n",
    "    Ans:False\n",
    "    \n",
    "    6.(not False) or (not True)\n",
    "    Ans:True\n"
   ]
  },
  {
   "cell_type": "raw",
   "id": "045fce26-08d3-4569-a5a0-d8ef74bd2933",
   "metadata": {},
   "source": [
    "Q5. What are the six comparison operators?\n",
    "\n",
    "Ans:Python has six comparison operators, which are as follows:\n",
    "\n",
    "Less than ( < )\n",
    "Less than or equal to (<=)\n",
    "Greater than (>)\n",
    "Greater than or equal to (>=)\n",
    "Equal to ( == )\n",
    "Not equal to ( != )"
   ]
  },
  {
   "cell_type": "raw",
   "id": "3b58b5fe-bda7-4c9f-bba1-aae6527507f8",
   "metadata": {},
   "source": [
    "Q6. How do you tell the difference between the equal to and assignment operators?Describe a\n",
    "condition and when you would use one.\n",
    "\n",
    "Ans:Equal to operator is used to compare two or more operands and assignment is used to store value in a variable"
   ]
  },
  {
   "cell_type": "code",
   "execution_count": null,
   "id": "98776d8a-363a-467a-b0b6-c58e975fc0aa",
   "metadata": {},
   "outputs": [],
   "source": [
    "7. Identify the three blocks in this code:\n",
    "spam = 0\n",
    "//first block\n",
    "if spam == 10:\n",
    "    print(eggs)\n",
    "\n",
    "//second block\n",
    "if spam > 5:\n",
    "    print(bacon)\n",
    "    \n",
    "//third block\n",
    "else:\n",
    "    print(ham)\n",
    "    print(spam)\n",
    "    print(spam)"
   ]
  },
  {
   "cell_type": "code",
   "execution_count": null,
   "id": "a8a3c91b-157f-4427-8f36-b4e6a858a8a5",
   "metadata": {},
   "outputs": [],
   "source": [
    "\"\"\" Q8. Write code that prints Hello if 1 is stored in spam, prints Howdy if 2 is stored in spam, and prints\n",
    "Greetings! if anything else is stored in spam. \"\"\"\n",
    "\n",
    "spam=int(input(\"enter input\"))\n",
    "\n",
    "if spam==1:\n",
    "    print(\"Hello\")\n",
    "\n",
    "elif spam==2:\n",
    "    print(\"Howdy\")\n",
    "else:\n",
    "    print(\"greetings !\")\n",
    "    "
   ]
  },
  {
   "cell_type": "code",
   "execution_count": null,
   "id": "8973276b-40e9-4ff2-8476-5522173d80af",
   "metadata": {},
   "outputs": [],
   "source": []
  },
  {
   "cell_type": "raw",
   "id": "205a7f28-0440-4dba-8c44-61f261eb574a",
   "metadata": {},
   "source": [
    "Q9.If your programme is stuck in an endless loop, what keys you’ll press?\n",
    "\n",
    "Ans: ctrl+c"
   ]
  },
  {
   "cell_type": "raw",
   "id": "f824b732-70f3-48c0-aef0-bd1c1e0eebd7",
   "metadata": {},
   "source": [
    "Q10. How can you tell the difference between break and continue?\n",
    "\n",
    "Ans:The break statement is used as an exit statement, allowing you to exit the current block or loop. The continue statement aids in moving from the current loop iteration to the next loop"
   ]
  },
  {
   "cell_type": "raw",
   "id": "15385800-4312-4505-aae4-7741b3517363",
   "metadata": {},
   "source": [
    "Q11. In a for loop, what is the difference between range(10), range(0, 10), and range(0, 10, 1)?\n",
    "\n",
    "Ans:\n",
    "range(10) => means start from 0 and end at 10 but 10 is excluded .here o is by default is taken\n",
    "range(0,10) => means start from from 0 and end at 10 but 10 is excluded .here we assign starting value of range\n",
    "range(0,10,1) => means start from from 0 and end at 10 but 10 is excluded and at a step of 1.\n"
   ]
  },
  {
   "cell_type": "code",
   "execution_count": 7,
   "id": "5319a6df-06bf-41c5-b236-1ceaffc76a9c",
   "metadata": {},
   "outputs": [
    {
     "name": "stdout",
     "output_type": "stream",
     "text": [
      "1  \n",
      "2  \n",
      "3  \n",
      "4  \n",
      "5  \n",
      "6  \n",
      "7  \n",
      "8  \n",
      "9  \n",
      "10  \n",
      "1\n",
      "2\n",
      "3\n",
      "4\n",
      "5\n",
      "6\n",
      "7\n",
      "8\n",
      "9\n"
     ]
    }
   ],
   "source": [
    "\"\"\" Q12. Write a short program that prints the numbers 1 to 10 using a for loop. Then write an equivalent\n",
    "program that prints the numbers 1 to 10 using a while loop. \"\"\"\n",
    "Ans:\n",
    "for i in range(1,11):\n",
    "    print(i,\" \")\n",
    "\n",
    "i=1    \n",
    "while(i<10):\n",
    "    print(i)\n",
    "    i=i+1"
   ]
  },
  {
   "cell_type": "raw",
   "id": "ca834106-a9e4-4eba-bd8b-f1ff529a5d6e",
   "metadata": {},
   "source": [
    "Q13. If you had a function named bacon() inside a module named spam, how would you call it after\n",
    "importing spam? \n",
    "\n",
    "Ans:This function can be called with spam. bacon().\n"
   ]
  }
 ],
 "metadata": {
  "kernelspec": {
   "display_name": "Python 3 (ipykernel)",
   "language": "python",
   "name": "python3"
  },
  "language_info": {
   "codemirror_mode": {
    "name": "ipython",
    "version": 3
   },
   "file_extension": ".py",
   "mimetype": "text/x-python",
   "name": "python",
   "nbconvert_exporter": "python",
   "pygments_lexer": "ipython3",
   "version": "3.10.6"
  }
 },
 "nbformat": 4,
 "nbformat_minor": 5
}
