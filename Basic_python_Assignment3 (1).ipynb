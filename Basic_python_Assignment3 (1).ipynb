{
 "cells": [
  {
   "cell_type": "code",
   "execution_count": null,
   "id": "01d12ecd-ab62-4c07-bdbf-63a9a6446aa0",
   "metadata": {},
   "outputs": [],
   "source": [
    "\"\"\" Q1. Why are functions advantageous to have in your programs?\n",
    "\n",
    "Ans:The use of functions makes a program more readable.\n",
    "It's frequently difficult to read a large program. \n",
    "Breaking the code down into smaller functions keeps the program structured, understandable, and reusable. \n",
    "The function can be reused countless times after it is defined.  \"\"\""
   ]
  },
  {
   "cell_type": "code",
   "execution_count": null,
   "id": "0121a55b-3361-4389-956b-6315e3157574",
   "metadata": {},
   "outputs": [],
   "source": [
    "\"\"\" Q2. When does the code in a function run: when it's specified or when it's called?\n",
    "\n",
    "Ans: When a function is \"called\" the program \"leaves\" the current section of code and begins to execute the first line inside the\n",
    "function. \"\"\"\n"
   ]
  },
  {
   "cell_type": "code",
   "execution_count": 1,
   "id": "a63f3439-5e78-496c-9be0-081dd30e43f9",
   "metadata": {},
   "outputs": [
    {
     "data": {
      "text/plain": [
       "' Q3.What statement creates a function?\\n\\nAns:The “def” keyword is a statement for defining a function in Python. You start a function with the def keyword, specify a name\\nfollowed by a colon (:) sign. The “def” call creates the function object and assigns it to the name given.\\nYou can further re-assign the same function object to other names.'"
      ]
     },
     "execution_count": 1,
     "metadata": {},
     "output_type": "execute_result"
    }
   ],
   "source": [
    "\"\"\" Q3.What statement creates a function?\n",
    "\n",
    "Ans:The “def” keyword is a statement for defining a function in Python. You start a function with the def keyword, specify a name\n",
    "followed by a colon (:) sign. The “def” call creates the function object and assigns it to the name given.\n",
    "You can further re-assign the same function object to other names.\"\"\""
   ]
  },
  {
   "cell_type": "code",
   "execution_count": null,
   "id": "8b91603c-f634-4c02-8249-069ecc09f21e",
   "metadata": {},
   "outputs": [],
   "source": [
    "\"\"\" Q4. What is the difference between a function and a function call?\n",
    "\n",
    "Ans:\n",
    "A function is a block of code that does a particular operation and returns a result. \n",
    "It usually accepts inputs as parameters and returns a result. The parameters are not mandatory.\n",
    "\n",
    "E.g:\n",
    "Function add(a,b)\n",
    "return a+ b\n",
    "\n",
    "A function call is the code used to pass control to a function.\n",
    "\n",
    "E.g.:\n",
    "\n",
    "b = add(5,6)\n",
    "\"\"\""
   ]
  },
  {
   "cell_type": "code",
   "execution_count": 2,
   "id": "1419eca9-6e56-4e70-b124-7b3022d1dba7",
   "metadata": {},
   "outputs": [
    {
     "data": {
      "text/plain": [
       "' Q5. How many global scopes are there in a Python program? How many local scopes?\\n\\nAns: \\nwhen a variable is decalred in global scope then that variable is accessible by whole program \\nin a python program there is nly one global scope \\n\\n\\na variable within a function, its scope lies ONLY within the function. It is accessible from the point at \\nwhich it is defined until the end of the function and exists for as long as the function is executing (Source).\\n\\nin a python program more than one local scope is possible\\n'"
      ]
     },
     "execution_count": 2,
     "metadata": {},
     "output_type": "execute_result"
    }
   ],
   "source": [
    "\"\"\" Q5. How many global scopes are there in a Python program? How many local scopes?\n",
    "\n",
    "Ans: \n",
    "when a variable is decalred in global scope then that variable is accessible by whole program \n",
    "in a python program there is nly one global scope \n",
    "\n",
    "\n",
    "a variable within a function, its scope lies ONLY within the function. It is accessible from the point at \n",
    "which it is defined until the end of the function and exists for as long as the function is executing (Source).\n",
    "\n",
    "in a python program more than one local scope is possible as per \n",
    "\"\"\""
   ]
  },
  {
   "cell_type": "code",
   "execution_count": 3,
   "id": "7f601e29-c99c-4b59-8c19-dd7ab1afb0c9",
   "metadata": {},
   "outputs": [
    {
     "data": {
      "text/plain": [
       "' Q6. What happens to variables in a local scope when the function call returns?\\n\\nAns:Each call of the function creates new local variables, and their lifetimes expire when the function returns to the caller.\\nA local variable retains its value until the next time the function is called\\nA local variable becomes undefined after the function call completes\\nThe local variable can be used outside the function any time after the function call completes. '"
      ]
     },
     "execution_count": 3,
     "metadata": {},
     "output_type": "execute_result"
    }
   ],
   "source": [
    "\"\"\" Q6. What happens to variables in a local scope when the function call returns?\n",
    "\n",
    "Ans:Each call of the function creates new local variables, and their lifetimes expire when the function returns to the caller.\n",
    "A local variable retains its value until the next time the function is called\n",
    "A local variable becomes undefined after the function call completes\n",
    "The local variable can be used outside the function any time after the function call completes. \"\"\""
   ]
  },
  {
   "cell_type": "code",
   "execution_count": null,
   "id": "42e9e1a0-883d-4a72-95ae-b34c20890f9a",
   "metadata": {},
   "outputs": [],
   "source": [
    "\"\"\"Q7. What is the concept of a return value? Is it possible to have a return value in an expression?\n",
    "\n",
    "Ans: From a function we can return a value and from a expression inside a function return value is possible. \"\"\" "
   ]
  },
  {
   "cell_type": "code",
   "execution_count": null,
   "id": "d5106607-8504-4d4e-bb36-32dd24de38e4",
   "metadata": {},
   "outputs": [],
   "source": [
    "\"\"\"Q8. If a function does not have a return statement, what is the return value of a call to that function?\n",
    "\n",
    "Ans: If a funcxtion does not have any return statement then it simply return nothing"
   ]
  },
  {
   "cell_type": "code",
   "execution_count": null,
   "id": "8647652f-d697-4bad-9e80-19a7d464a08b",
   "metadata": {},
   "outputs": [],
   "source": [
    "\"\"\"Q9. How do you make a function variable refer to the global variable?\n",
    "\n",
    "Ans:To create a global variable inside a function, you can use the global keyword."
   ]
  },
  {
   "cell_type": "code",
   "execution_count": null,
   "id": "ae53eee1-a4b3-4fd1-b574-533a1f5ac4f2",
   "metadata": {},
   "outputs": [],
   "source": [
    "\"\"\"Q10. What is the data type of None?\n",
    "\n",
    "Ans:The None keyword is used to define a null value, or no value at all. \n",
    "data type of none is NONETYPE  \"\"\""
   ]
  },
  {
   "cell_type": "code",
   "execution_count": null,
   "id": "43b1d1d9-4bb5-4c74-a47c-98c83bd9d752",
   "metadata": {},
   "outputs": [],
   "source": [
    "\"\"\"Q11. What does the sentence import areallyourpetsnamederic do?\n",
    "\n",
    "Ans:\n",
    "this sentence do import file/module areallpetsnamederic and we can use variables and functions inside this module"
   ]
  },
  {
   "cell_type": "code",
   "execution_count": null,
   "id": "ad2e720b-86e1-454d-a209-ba5709337c9a",
   "metadata": {},
   "outputs": [],
   "source": [
    "\"\"\"Q12. If you had a bacon() feature in a spam module, what would you call it after importing spam?\n",
    "Ans:\n",
    "import spam\n",
    "\n",
    "spam.bacon()\n",
    "\n",
    "\"\"\""
   ]
  },
  {
   "cell_type": "code",
   "execution_count": null,
   "id": "7dd50aae-21f8-4e41-afb9-e3af76b5fb3c",
   "metadata": {},
   "outputs": [],
   "source": [
    "\"\"\"Q13. What can you do to save a programme from crashing if it encounters an error?\n",
    "\n",
    "Ans:If an error occurs in a program, we don't want the program to unexpectedly crash on the user. \n",
    "Instead, error handling can be used to notify the user of why the error occurred and gracefully exit the process that \n",
    "caused the error"
   ]
  },
  {
   "cell_type": "code",
   "execution_count": null,
   "id": "e05ef0be-7df4-4202-8107-844bbb635651",
   "metadata": {},
   "outputs": [],
   "source": [
    "\"\"\" Q14. What is the purpose of the try clause? What is the purpose of the except clause?\n",
    "\n",
    "Ans:The try and except Block: Handling Exceptions. The try and except block in Python is used to catch and handle exceptions.\n",
    "Python executes code following the try statement as a “normal” part of the program. \n",
    "The code that follows the except statement is the program's response to any exceptions in the preceding try clause\n",
    "\"\"\"\n"
   ]
  }
 ],
 "metadata": {
  "kernelspec": {
   "display_name": "Python 3 (ipykernel)",
   "language": "python",
   "name": "python3"
  },
  "language_info": {
   "codemirror_mode": {
    "name": "ipython",
    "version": 3
   },
   "file_extension": ".py",
   "mimetype": "text/x-python",
   "name": "python",
   "nbconvert_exporter": "python",
   "pygments_lexer": "ipython3",
   "version": "3.10.6"
  }
 },
 "nbformat": 4,
 "nbformat_minor": 5
}
